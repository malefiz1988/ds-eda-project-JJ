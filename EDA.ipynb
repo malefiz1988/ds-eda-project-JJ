{
 "cells": [
  {
   "cell_type": "code",
   "execution_count": 1,
   "id": "treated-funeral",
   "metadata": {},
   "outputs": [],
   "source": [
    "import matplotlib.pyplot as plt\n",
    "import numpy as np\n",
    "import pandas as pd\n",
    "from scipy import stats\n",
    "import seaborn as sns\n",
    "import statsmodels.api as sm\n",
    "import statsmodels.formula.api as smf\n",
    "from mpl_toolkits.mplot3d import Axes3D"
   ]
  },
  {
   "cell_type": "code",
   "execution_count": 6,
   "id": "dimensional-conditioning",
   "metadata": {},
   "outputs": [
    {
     "output_type": "execute_result",
     "data": {
      "text/plain": [
       "   Unnamed: 0  SALARY  EDUC  SALBEGIN  GENDER  MINORITY  JOBCAT\n",
       "0           0   57000    15     27000       1         0       3\n",
       "1           1   40200    16     18750       1         0       1\n",
       "2           2   21450    12     12000       0         0       1\n",
       "3           3   21900     8     13200       0         0       1\n",
       "4           4   45000    15     21000       1         0       1"
      ],
      "text/html": "<div>\n<style scoped>\n    .dataframe tbody tr th:only-of-type {\n        vertical-align: middle;\n    }\n\n    .dataframe tbody tr th {\n        vertical-align: top;\n    }\n\n    .dataframe thead th {\n        text-align: right;\n    }\n</style>\n<table border=\"1\" class=\"dataframe\">\n  <thead>\n    <tr style=\"text-align: right;\">\n      <th></th>\n      <th>Unnamed: 0</th>\n      <th>SALARY</th>\n      <th>EDUC</th>\n      <th>SALBEGIN</th>\n      <th>GENDER</th>\n      <th>MINORITY</th>\n      <th>JOBCAT</th>\n    </tr>\n  </thead>\n  <tbody>\n    <tr>\n      <th>0</th>\n      <td>0</td>\n      <td>57000</td>\n      <td>15</td>\n      <td>27000</td>\n      <td>1</td>\n      <td>0</td>\n      <td>3</td>\n    </tr>\n    <tr>\n      <th>1</th>\n      <td>1</td>\n      <td>40200</td>\n      <td>16</td>\n      <td>18750</td>\n      <td>1</td>\n      <td>0</td>\n      <td>1</td>\n    </tr>\n    <tr>\n      <th>2</th>\n      <td>2</td>\n      <td>21450</td>\n      <td>12</td>\n      <td>12000</td>\n      <td>0</td>\n      <td>0</td>\n      <td>1</td>\n    </tr>\n    <tr>\n      <th>3</th>\n      <td>3</td>\n      <td>21900</td>\n      <td>8</td>\n      <td>13200</td>\n      <td>0</td>\n      <td>0</td>\n      <td>1</td>\n    </tr>\n    <tr>\n      <th>4</th>\n      <td>4</td>\n      <td>45000</td>\n      <td>15</td>\n      <td>21000</td>\n      <td>1</td>\n      <td>0</td>\n      <td>1</td>\n    </tr>\n  </tbody>\n</table>\n</div>"
     },
     "metadata": {},
     "execution_count": 6
    }
   ],
   "source": [
    "df = pd.read_csv('us_bank_wages/us_bank_wages.txt', sep=\"\\t\")\n",
    "df.head()"
   ]
  },
  {
   "cell_type": "code",
   "execution_count": 7,
   "metadata": {},
   "outputs": [
    {
     "output_type": "execute_result",
     "data": {
      "text/plain": [
       "(474, 7)"
      ]
     },
     "metadata": {},
     "execution_count": 7
    }
   ],
   "source": [
    "df.shape"
   ]
  },
  {
   "cell_type": "code",
   "execution_count": 8,
   "metadata": {},
   "outputs": [
    {
     "output_type": "stream",
     "name": "stdout",
     "text": [
      "<class 'pandas.core.frame.DataFrame'>\nRangeIndex: 474 entries, 0 to 473\nData columns (total 7 columns):\n #   Column      Non-Null Count  Dtype\n---  ------      --------------  -----\n 0   Unnamed: 0  474 non-null    int64\n 1   SALARY      474 non-null    int64\n 2   EDUC        474 non-null    int64\n 3   SALBEGIN    474 non-null    int64\n 4   GENDER      474 non-null    int64\n 5   MINORITY    474 non-null    int64\n 6   JOBCAT      474 non-null    int64\ndtypes: int64(7)\nmemory usage: 26.0 KB\n"
     ]
    }
   ],
   "source": [
    "df.info()"
   ]
  },
  {
   "cell_type": "code",
   "execution_count": 9,
   "metadata": {},
   "outputs": [
    {
     "output_type": "execute_result",
     "data": {
      "text/plain": [
       "       Unnamed: 0         SALARY        EDUC      SALBEGIN      GENDER  \\\n",
       "count  474.000000     474.000000  474.000000    474.000000  474.000000   \n",
       "mean   236.500000   34419.567511   13.491561  17016.086498    0.544304   \n",
       "std    136.976275   17075.661465    2.884846   7870.638154    0.498559   \n",
       "min      0.000000   15750.000000    8.000000   9000.000000    0.000000   \n",
       "25%    118.250000   24000.000000   12.000000  12487.500000    0.000000   \n",
       "50%    236.500000   28875.000000   12.000000  15000.000000    1.000000   \n",
       "75%    354.750000   36937.500000   15.000000  17490.000000    1.000000   \n",
       "max    473.000000  135000.000000   21.000000  79980.000000    1.000000   \n",
       "\n",
       "         MINORITY      JOBCAT  \n",
       "count  474.000000  474.000000  \n",
       "mean     0.219409    1.411392  \n",
       "std      0.414284    0.773201  \n",
       "min      0.000000    1.000000  \n",
       "25%      0.000000    1.000000  \n",
       "50%      0.000000    1.000000  \n",
       "75%      0.000000    1.000000  \n",
       "max      1.000000    3.000000  "
      ],
      "text/html": "<div>\n<style scoped>\n    .dataframe tbody tr th:only-of-type {\n        vertical-align: middle;\n    }\n\n    .dataframe tbody tr th {\n        vertical-align: top;\n    }\n\n    .dataframe thead th {\n        text-align: right;\n    }\n</style>\n<table border=\"1\" class=\"dataframe\">\n  <thead>\n    <tr style=\"text-align: right;\">\n      <th></th>\n      <th>Unnamed: 0</th>\n      <th>SALARY</th>\n      <th>EDUC</th>\n      <th>SALBEGIN</th>\n      <th>GENDER</th>\n      <th>MINORITY</th>\n      <th>JOBCAT</th>\n    </tr>\n  </thead>\n  <tbody>\n    <tr>\n      <th>count</th>\n      <td>474.000000</td>\n      <td>474.000000</td>\n      <td>474.000000</td>\n      <td>474.000000</td>\n      <td>474.000000</td>\n      <td>474.000000</td>\n      <td>474.000000</td>\n    </tr>\n    <tr>\n      <th>mean</th>\n      <td>236.500000</td>\n      <td>34419.567511</td>\n      <td>13.491561</td>\n      <td>17016.086498</td>\n      <td>0.544304</td>\n      <td>0.219409</td>\n      <td>1.411392</td>\n    </tr>\n    <tr>\n      <th>std</th>\n      <td>136.976275</td>\n      <td>17075.661465</td>\n      <td>2.884846</td>\n      <td>7870.638154</td>\n      <td>0.498559</td>\n      <td>0.414284</td>\n      <td>0.773201</td>\n    </tr>\n    <tr>\n      <th>min</th>\n      <td>0.000000</td>\n      <td>15750.000000</td>\n      <td>8.000000</td>\n      <td>9000.000000</td>\n      <td>0.000000</td>\n      <td>0.000000</td>\n      <td>1.000000</td>\n    </tr>\n    <tr>\n      <th>25%</th>\n      <td>118.250000</td>\n      <td>24000.000000</td>\n      <td>12.000000</td>\n      <td>12487.500000</td>\n      <td>0.000000</td>\n      <td>0.000000</td>\n      <td>1.000000</td>\n    </tr>\n    <tr>\n      <th>50%</th>\n      <td>236.500000</td>\n      <td>28875.000000</td>\n      <td>12.000000</td>\n      <td>15000.000000</td>\n      <td>1.000000</td>\n      <td>0.000000</td>\n      <td>1.000000</td>\n    </tr>\n    <tr>\n      <th>75%</th>\n      <td>354.750000</td>\n      <td>36937.500000</td>\n      <td>15.000000</td>\n      <td>17490.000000</td>\n      <td>1.000000</td>\n      <td>0.000000</td>\n      <td>1.000000</td>\n    </tr>\n    <tr>\n      <th>max</th>\n      <td>473.000000</td>\n      <td>135000.000000</td>\n      <td>21.000000</td>\n      <td>79980.000000</td>\n      <td>1.000000</td>\n      <td>1.000000</td>\n      <td>3.000000</td>\n    </tr>\n  </tbody>\n</table>\n</div>"
     },
     "metadata": {},
     "execution_count": 9
    }
   ],
   "source": [
    "df.describe()"
   ]
  },
  {
   "cell_type": "code",
   "execution_count": null,
   "metadata": {},
   "outputs": [],
   "source": []
  }
 ],
 "metadata": {
  "kernelspec": {
   "display_name": "Python 3",
   "language": "python",
   "name": "python3"
  },
  "language_info": {
   "codemirror_mode": {
    "name": "ipython",
    "version": 3
   },
   "file_extension": ".py",
   "mimetype": "text/x-python",
   "name": "python",
   "nbconvert_exporter": "python",
   "pygments_lexer": "ipython3",
   "version": "3.8.5-final"
  }
 },
 "nbformat": 4,
 "nbformat_minor": 5
}